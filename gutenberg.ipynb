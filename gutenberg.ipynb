{
 "cells": [
  {
   "cell_type": "code",
   "execution_count": 2,
   "id": "d7df59c2",
   "metadata": {},
   "outputs": [
    {
     "name": "stdout",
     "output_type": "stream",
     "text": [
      "\n",
      "# conda environments:\n",
      "#\n",
      "base                   /opt/miniconda3\n",
      "myenv                * /opt/miniconda3/envs/myenv\n",
      "\n"
     ]
    }
   ],
   "source": [
    "!conda env list"
   ]
  },
  {
   "cell_type": "code",
   "execution_count": 7,
   "id": "73f47884",
   "metadata": {},
   "outputs": [
    {
     "ename": "ImportError",
     "evalue": "cannot import name 'load_gutenberg_data' from 'tt_gutenberg.utils' (/Users/shirley/Documents/Project/Study/2025 Fall IUI/INTRO DATA SCIENCE PROGRAMMING/Assignment/Code/h501-gutenberg/tt_gutenberg/utils.py)",
     "output_type": "error",
     "traceback": [
      "\u001b[31m---------------------------------------------------------------------------\u001b[39m",
      "\u001b[31mImportError\u001b[39m                               Traceback (most recent call last)",
      "\u001b[36mCell\u001b[39m\u001b[36m \u001b[39m\u001b[32mIn[7]\u001b[39m\u001b[32m, line 1\u001b[39m\n\u001b[32m----> \u001b[39m\u001b[32m1\u001b[39m \u001b[38;5;28;01mfrom\u001b[39;00m\u001b[38;5;250m \u001b[39m\u001b[34;01mtt_gutenberg\u001b[39;00m\u001b[34;01m.\u001b[39;00m\u001b[34;01mauthors\u001b[39;00m\u001b[38;5;250m \u001b[39m\u001b[38;5;28;01mimport\u001b[39;00m list_authors\n\u001b[32m      2\u001b[39m list_authors(by_languages=\u001b[38;5;28;01mTrue\u001b[39;00m, alias=\u001b[38;5;28;01mTrue\u001b[39;00m)\n",
      "\u001b[36mFile \u001b[39m\u001b[32m~/Documents/Project/Study/2025 Fall IUI/INTRO DATA SCIENCE PROGRAMMING/Assignment/Code/h501-gutenberg/tt_gutenberg/__init__.py:1\u001b[39m\n\u001b[32m----> \u001b[39m\u001b[32m1\u001b[39m \u001b[38;5;28;01mfrom\u001b[39;00m\u001b[38;5;250m \u001b[39m\u001b[34;01m.\u001b[39;00m\u001b[34;01mauthors\u001b[39;00m\u001b[38;5;250m \u001b[39m\u001b[38;5;28;01mimport\u001b[39;00m list_authors\n\u001b[32m      2\u001b[39m \u001b[38;5;28;01mfrom\u001b[39;00m\u001b[38;5;250m \u001b[39m\u001b[34;01m.\u001b[39;00m\u001b[34;01mplots\u001b[39;00m\u001b[38;5;250m \u001b[39m\u001b[38;5;28;01mimport\u001b[39;00m plot_translations\n\u001b[32m      4\u001b[39m __all__ = [\u001b[33m\"\u001b[39m\u001b[33mlist_authors\u001b[39m\u001b[33m\"\u001b[39m, \u001b[33m\"\u001b[39m\u001b[33mplot_translations\u001b[39m\u001b[33m\"\u001b[39m]\n",
      "\u001b[36mFile \u001b[39m\u001b[32m~/Documents/Project/Study/2025 Fall IUI/INTRO DATA SCIENCE PROGRAMMING/Assignment/Code/h501-gutenberg/tt_gutenberg/authors.py:1\u001b[39m\n\u001b[32m----> \u001b[39m\u001b[32m1\u001b[39m \u001b[38;5;28;01mfrom\u001b[39;00m\u001b[38;5;250m \u001b[39m\u001b[34;01m.\u001b[39;00m\u001b[34;01mutils\u001b[39;00m\u001b[38;5;250m \u001b[39m\u001b[38;5;28;01mimport\u001b[39;00m load_gutenberg_data\n\u001b[32m      3\u001b[39m \u001b[38;5;28;01mdef\u001b[39;00m\u001b[38;5;250m \u001b[39m\u001b[34mlist_authors\u001b[39m(by_languages=\u001b[38;5;28;01mTrue\u001b[39;00m, alias=\u001b[38;5;28;01mTrue\u001b[39;00m):\n\u001b[32m      4\u001b[39m     df = load_gutenberg_data()\n",
      "\u001b[31mImportError\u001b[39m: cannot import name 'load_gutenberg_data' from 'tt_gutenberg.utils' (/Users/shirley/Documents/Project/Study/2025 Fall IUI/INTRO DATA SCIENCE PROGRAMMING/Assignment/Code/h501-gutenberg/tt_gutenberg/utils.py)"
     ]
    }
   ],
   "source": [
    "from tt_gutenberg.authors import list_authors\n",
    "list_authors(by_languages=True, alias=True)\n"
   ]
  },
  {
   "cell_type": "code",
   "execution_count": null,
   "id": "cd0550fb",
   "metadata": {},
   "outputs": [
    {
     "ename": "ImportError",
     "evalue": "cannot import name 'load_gutenberg_data' from 'tt_gutenberg.utils' (/Users/shirley/Documents/Project/Study/2025 Fall IUI/INTRO DATA SCIENCE PROGRAMMING/Assignment/Code/h501-gutenberg/tt_gutenberg/utils.py)",
     "output_type": "error",
     "traceback": [
      "\u001b[31m---------------------------------------------------------------------------\u001b[39m",
      "\u001b[31mImportError\u001b[39m                               Traceback (most recent call last)",
      "\u001b[36mCell\u001b[39m\u001b[36m \u001b[39m\u001b[32mIn[1]\u001b[39m\u001b[32m, line 1\u001b[39m\n\u001b[32m----> \u001b[39m\u001b[32m1\u001b[39m \u001b[38;5;28;01mfrom\u001b[39;00m\u001b[38;5;250m \u001b[39m\u001b[34;01mtt_gutenberg\u001b[39;00m\u001b[38;5;250m \u001b[39m\u001b[38;5;28;01mimport\u001b[39;00m plot_translations\n\u001b[32m      2\u001b[39m plot_translations(over=\u001b[33m\"\u001b[39m\u001b[33mbirth_century\u001b[39m\u001b[33m\"\u001b[39m)\n",
      "\u001b[36mFile \u001b[39m\u001b[32m~/Documents/Project/Study/2025 Fall IUI/INTRO DATA SCIENCE PROGRAMMING/Assignment/Code/h501-gutenberg/tt_gutenberg/__init__.py:1\u001b[39m\n\u001b[32m----> \u001b[39m\u001b[32m1\u001b[39m \u001b[38;5;28;01mfrom\u001b[39;00m\u001b[38;5;250m \u001b[39m\u001b[34;01m.\u001b[39;00m\u001b[34;01mauthors\u001b[39;00m\u001b[38;5;250m \u001b[39m\u001b[38;5;28;01mimport\u001b[39;00m list_authors\n\u001b[32m      2\u001b[39m \u001b[38;5;28;01mfrom\u001b[39;00m\u001b[38;5;250m \u001b[39m\u001b[34;01m.\u001b[39;00m\u001b[34;01mplots\u001b[39;00m\u001b[38;5;250m \u001b[39m\u001b[38;5;28;01mimport\u001b[39;00m plot_translations\n\u001b[32m      4\u001b[39m __all__ = [\u001b[33m\"\u001b[39m\u001b[33mlist_authors\u001b[39m\u001b[33m\"\u001b[39m, \u001b[33m\"\u001b[39m\u001b[33mplot_translations\u001b[39m\u001b[33m\"\u001b[39m]\n",
      "\u001b[36mFile \u001b[39m\u001b[32m~/Documents/Project/Study/2025 Fall IUI/INTRO DATA SCIENCE PROGRAMMING/Assignment/Code/h501-gutenberg/tt_gutenberg/authors.py:1\u001b[39m\n\u001b[32m----> \u001b[39m\u001b[32m1\u001b[39m \u001b[38;5;28;01mfrom\u001b[39;00m\u001b[38;5;250m \u001b[39m\u001b[34;01m.\u001b[39;00m\u001b[34;01mutils\u001b[39;00m\u001b[38;5;250m \u001b[39m\u001b[38;5;28;01mimport\u001b[39;00m load_gutenberg_data\n\u001b[32m      3\u001b[39m \u001b[38;5;28;01mdef\u001b[39;00m\u001b[38;5;250m \u001b[39m\u001b[34mlist_authors\u001b[39m(by_languages=\u001b[38;5;28;01mTrue\u001b[39;00m, alias=\u001b[38;5;28;01mTrue\u001b[39;00m):\n\u001b[32m      4\u001b[39m     df = load_gutenberg_data()\n",
      "\u001b[31mImportError\u001b[39m: cannot import name 'load_gutenberg_data' from 'tt_gutenberg.utils' (/Users/shirley/Documents/Project/Study/2025 Fall IUI/INTRO DATA SCIENCE PROGRAMMING/Assignment/Code/h501-gutenberg/tt_gutenberg/utils.py)"
     ]
    }
   ],
   "source": [
    "from tt_gutenberg import plot_translations\n",
    "# plot_translations(over=\"birth_century\")"
   ]
  }
 ],
 "metadata": {
  "kernelspec": {
   "display_name": "myenv",
   "language": "python",
   "name": "python3"
  },
  "language_info": {
   "codemirror_mode": {
    "name": "ipython",
    "version": 3
   },
   "file_extension": ".py",
   "mimetype": "text/x-python",
   "name": "python",
   "nbconvert_exporter": "python",
   "pygments_lexer": "ipython3",
   "version": "3.12.11"
  }
 },
 "nbformat": 4,
 "nbformat_minor": 5
}
